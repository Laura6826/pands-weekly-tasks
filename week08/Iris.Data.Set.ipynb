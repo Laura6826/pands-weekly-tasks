{
 "cells": [
  {
   "cell_type": "markdown",
   "metadata": {},
   "source": [
    "# Analysis of the Iris Dataset.\n",
    "*By Laura Lyons*\n",
    "***"
   ]
  },
  {
   "cell_type": "markdown",
   "metadata": {},
   "source": [
    "## **1.0    Introduction**\n",
    "***\n",
    "The Iris date set is\n",
    "The raw data set is available [on Github](https://raw.githubusercontent.com/mwaskom/seaborn-data/master/iris.csv). This source was choosen as:\n",
    " - all headings are properly formatted and in lower case\n",
    " - all integer varialbles are to one decimal point.\n",
    " This will make for an easier analysis."
   ]
  },
  {
   "cell_type": "markdown",
   "metadata": {},
   "source": [
    "## **2.0    Methods**\n",
    "***"
   ]
  },
  {
   "cell_type": "markdown",
   "metadata": {},
   "source": [
    "#### 2.1    Prerequisites/ Imports\n",
    "\n",
    "A number of imports were used to help with the data analysis and visualisation.\n",
    "\n",
    "1. **Pandas**: for for the DataFrame data structure and forstoring, manipulating and working with structured data. It allows us to investigate CSV files, amongst other features.\n",
    "\n",
    "1. **Numpy**: as it creates efficient data structures for dealing with numerical data in python. Reference Lecture 5. Module Principles of Data Analytics.\n",
    "\n",
    "1. **Matplotlib.pyplot:** for creating plots\n",
    "\n",
    "1. **Seaborn**: matplotlib sub-library for creating attractive data visualisation"
   ]
  }
 ],
 "metadata": {
  "language_info": {
   "name": "python"
  }
 },
 "nbformat": 4,
 "nbformat_minor": 2
}
